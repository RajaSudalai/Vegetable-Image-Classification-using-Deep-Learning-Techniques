{
 "cells": [
  {
   "cell_type": "code",
   "execution_count": null,
   "metadata": {},
   "outputs": [],
   "source": [
    "from bs4 import BeautifulSoup\n",
    "import numpy as np\n",
    "import requests\n",
    "import cv2\n",
    "import PIL.Image\n",
    "import urllib\n",
    "page = requests.get(\"http://www.image-net.org/api/text/imagenet.synset.geturls?wnid=n07718472\")#ship synset\n",
    "print(page.content)\n",
    "# BeautifulSoup is an HTML parsing library\n",
    "soup = BeautifulSoup(page.content, 'html.parser')#puts the content of the website into the soup variable, each url on a different line"
   ]
  },
  {
   "cell_type": "code",
   "execution_count": null,
   "metadata": {},
   "outputs": [],
   "source": [
    "str_soup=str(soup)#convert soup to string so it can be split\n",
    "type(str_soup)\n",
    "split_urls=str_soup.split('\\r\\n')#split so each url is a different possition on a list\n",
    "print(len(split_urls))#print the length of the list so you know how many urls you have"
   ]
  },
  {
   "cell_type": "code",
   "execution_count": null,
   "metadata": {},
   "outputs": [],
   "source": [
    "img_rows, img_cols = 32, 32 #number of rows and columns to convert the images to\n",
    "input_shape = (img_rows, img_cols, 3)#format to store the images (rows, columns,channels) called channels last\n",
    "def url_to_image(url):\n",
    " # download the image, convert it to a NumPy array, and then read\n",
    " # it into OpenCV format\n",
    " resp = urllib.request.urlopen(url)\n",
    " image = np.asarray(bytearray(resp.read()), dtype=\"uint8\")\n",
    " image = cv2.imdecode(image, cv2.IMREAD_COLOR)\n",
    " \n",
    " # return the image\n",
    " return image\n",
    "\n",
    "n_of_training_images=1297#the number of training images to use\n",
    "for progress in range(n_of_training_images):#store all the images on a directory\n",
    "    # Print out progress whenever progress is a multiple of 20 so we can follow the\n",
    "    # (relatively slow) progress\n",
    "    if(progress%20==0):\n",
    "        print(progress)\n",
    "    if not split_urls[progress] == None:\n",
    "      try:\n",
    "        I = url_to_image(split_urls[progress])\n",
    "        if (len(I.shape))==3: #check if the image has width, length and channels\n",
    "          save_path ='img'+str(progress)+'.jpg'#create a name of each image\n",
    "          #save_path = '\"C:\\\\Users\\\\jayas\\\\Pictures\\\\datasets\\\\aspar\\\\\"img'+str(progress)+'.jpg'\n",
    "          \n",
    "          cv2.imwrite(save_path,I)\n",
    "      except:\n",
    "        None\n",
    "        "
   ]
  },
  {
   "cell_type": "code",
   "execution_count": null,
   "metadata": {},
   "outputs": [],
   "source": []
  },
  {
   "cell_type": "code",
   "execution_count": null,
   "metadata": {},
   "outputs": [],
   "source": []
  }
 ],
 "metadata": {
  "kernelspec": {
   "display_name": "Python 3",
   "language": "python",
   "name": "python3"
  },
  "language_info": {
   "codemirror_mode": {
    "name": "ipython",
    "version": 3
   },
   "file_extension": ".py",
   "mimetype": "text/x-python",
   "name": "python",
   "nbconvert_exporter": "python",
   "pygments_lexer": "ipython3",
   "version": "3.7.4"
  }
 },
 "nbformat": 4,
 "nbformat_minor": 2
}
